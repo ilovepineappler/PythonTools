{
 "cells": [
  {
   "cell_type": "markdown",
   "metadata": {},
   "source": [
    "# XML 파싱 예제"
   ]
  },
  {
   "cell_type": "code",
   "execution_count": 1,
   "metadata": {},
   "outputs": [],
   "source": [
    "# Python 샘플 코드 #\n",
    "from urllib2 import Request, urlopen\n",
    "from urllib import urlencode, quote_plus\n",
    "from lxml import objectify\n",
    "import xml.etree.ElementTree as etree\n",
    "\n",
    "url = 'http://175.125.91.94/oasis/service/rest/meta13/getKOCD0101'\n",
    "request = Request(url)\n",
    "request.get_method = lambda: 'GET'\n",
    "response_body = urlopen(request).read()"
   ]
  },
  {
   "cell_type": "code",
   "execution_count": 2,
   "metadata": {},
   "outputs": [
    {
     "name": "stdout",
     "output_type": "stream",
     "text": [
      "<?xml version=\"1.0\" encoding=\"UTF-8\" standalone=\"yes\"?><response><header><resultCode>0000</resultCode><resultMsg>OK</resultMsg></header><body><items><item><collectionDb>대한체육회DB</collectionDb><creator>대한체육회</creator><language>Kor</language><regDate>2017-01-19T20:40:57+09:00</regDate><subjectCategory>공공</subjectCategory><title>염주 테니스장</title><url>http://www.sportal.or.kr/sportal.do?menu_id=020010000000&amp;mode=view&amp;etbm_usn=1010</url></item><item><collectionDb>대한체육회DB</collectionDb><creator>대한체육회</creator><language>Kor</language><regDate>2017-01-19T20:40:57+09:00</regDate><subjectCategory>공공</subjectCategory><title>전천후 테니스장(풍암동)</title><url>http://www.sportal.or.kr/sportal.do?menu_id=020010000000&amp;mode=view&amp;etbm_usn=1011</url></item><item><collectionDb>대한체육회DB</collectionDb><creator>대한체육회</creator><language>Kor</language><regDate>2017-01-19T20:40:57+09:00</regDate><subjectCategory>공공</subjectCategory><title>풍암 생활체육공원 정구장</title><url>http://www.sportal.or.kr/sportal.do?menu_id=020010000000&amp;mode=view&amp;etbm_usn=1013</url></item><item><collectionDb>대한체육회DB</collectionDb><creator>대한체육회</creator><language>Kor</language><regDate>2017-01-19T20:40:57+09:00</regDate><subjectCategory>공공</subjectCategory><title>상무시민공원 테니스장</title><url>http://www.sportal.or.kr/sportal.do?menu_id=020010000000&amp;mode=view&amp;etbm_usn=1014</url></item><item><collectionDb>대한체육회DB</collectionDb><creator>대한체육회</creator><language>Kor</language><regDate>2017-01-19T20:40:57+09:00</regDate><subjectCategory>공공</subjectCategory><title>용산 정구장</title><url>http://www.sportal.or.kr/sportal.do?menu_id=020010000000&amp;mode=view&amp;etbm_usn=1009</url></item><item><collectionDb>대한체육회DB</collectionDb><creator>대한체육회</creator><language>Kor</language><regDate>2017-01-19T20:41:02+09:00</regDate><subjectCategory>공공</subjectCategory><title>청양 공설운동장</title><url>http://www.sportal.or.kr/sportal.do?menu_id=020010000000&amp;mode=view&amp;etbm_usn=101</url></item><item><collectionDb>대한체육회DB</collectionDb><creator>대한체육회</creator><language>Kor</language><regDate>2017-01-19T20:40:57+09:00</regDate><subjectCategory>공공</subjectCategory><title>덕흥동영산강둔치 테니스장</title><url>http://www.sportal.or.kr/sportal.do?menu_id=020010000000&amp;mode=view&amp;etbm_usn=1015</url></item><item><collectionDb>대한체육회DB</collectionDb><creator>대한체육회</creator><language>Kor</language><regDate>2017-01-19T20:40:57+09:00</regDate><subjectCategory>공공</subjectCategory><title>봉선 테니스장</title><url>http://www.sportal.or.kr/sportal.do?menu_id=020010000000&amp;mode=view&amp;etbm_usn=1016</url></item><item><collectionDb>대한체육회DB</collectionDb><creator>대한체육회</creator><language>Kor</language><regDate>2017-01-19T20:40:57+09:00</regDate><subjectCategory>공공</subjectCategory><title>중흥 정구장</title><url>http://www.sportal.or.kr/sportal.do?menu_id=020010000000&amp;mode=view&amp;etbm_usn=1017</url></item><item><collectionDb>대한체육회DB</collectionDb><creator>대한체육회</creator><language>Kor</language><regDate>2017-01-19T20:40:59+09:00</regDate><subjectCategory>공공</subjectCategory><title>송산 테니스장</title><url>http://www.sportal.or.kr/sportal.do?menu_id=020010000000&amp;mode=view&amp;etbm_usn=1084</url></item></items><numOfRows>10</numOfRows><pageNo>1</pageNo><totalCount>8311</totalCount></body></response>\n"
     ]
    }
   ],
   "source": [
    "print response_body"
   ]
  },
  {
   "cell_type": "code",
   "execution_count": 3,
   "metadata": {},
   "outputs": [],
   "source": [
    "parsed_url = objectify.parse(urlopen(request))"
   ]
  },
  {
   "cell_type": "code",
   "execution_count": 22,
   "metadata": {},
   "outputs": [],
   "source": [
    "parsed_file = objectify.parse(open(\"test.xml\"), )"
   ]
  },
  {
   "cell_type": "code",
   "execution_count": 4,
   "metadata": {},
   "outputs": [],
   "source": [
    "root = parsed_url.getroot()"
   ]
  },
  {
   "cell_type": "code",
   "execution_count": 24,
   "metadata": {},
   "outputs": [],
   "source": [
    "data = []\n",
    "skip_fields = []"
   ]
  },
  {
   "cell_type": "code",
   "execution_count": 5,
   "metadata": {},
   "outputs": [],
   "source": [
    "items = root.body.getchildren()"
   ]
  },
  {
   "cell_type": "code",
   "execution_count": 6,
   "metadata": {},
   "outputs": [
    {
     "name": "stdout",
     "output_type": "stream",
     "text": [
      "items <bound method ObjectifiedElement.values of <Element items at 0x1748c1c8>>\n",
      "item None\n",
      "collectionDb 대한체육회DB\n",
      "creator 대한체육회\n",
      "language Kor\n",
      "regDate 2017-01-19T20:40:57+09:00\n",
      "subjectCategory 공공\n",
      "title 염주 테니스장\n",
      "url http://www.sportal.or.kr/sportal.do?menu_id=020010000000&mode=view&etbm_usn=1010\n",
      "item None\n",
      "collectionDb 대한체육회DB\n",
      "creator 대한체육회\n",
      "language Kor\n",
      "regDate 2017-01-19T20:40:57+09:00\n",
      "subjectCategory 공공\n",
      "title 전천후 테니스장(풍암동)\n",
      "url http://www.sportal.or.kr/sportal.do?menu_id=020010000000&mode=view&etbm_usn=1011\n",
      "item None\n",
      "collectionDb 대한체육회DB\n",
      "creator 대한체육회\n",
      "language Kor\n",
      "regDate 2017-01-19T20:40:57+09:00\n",
      "subjectCategory 공공\n",
      "title 풍암 생활체육공원 정구장\n",
      "url http://www.sportal.or.kr/sportal.do?menu_id=020010000000&mode=view&etbm_usn=1013\n",
      "item None\n",
      "collectionDb 대한체육회DB\n",
      "creator 대한체육회\n",
      "language Kor\n",
      "regDate 2017-01-19T20:40:57+09:00\n",
      "subjectCategory 공공\n",
      "title 상무시민공원 테니스장\n",
      "url http://www.sportal.or.kr/sportal.do?menu_id=020010000000&mode=view&etbm_usn=1014\n",
      "item None\n",
      "collectionDb 대한체육회DB\n",
      "creator 대한체육회\n",
      "language Kor\n",
      "regDate 2017-01-19T20:40:57+09:00\n",
      "subjectCategory 공공\n",
      "title 용산 정구장\n",
      "url http://www.sportal.or.kr/sportal.do?menu_id=020010000000&mode=view&etbm_usn=1009\n",
      "item None\n",
      "collectionDb 대한체육회DB\n",
      "creator 대한체육회\n",
      "language Kor\n",
      "regDate 2017-01-19T20:41:02+09:00\n",
      "subjectCategory 공공\n",
      "title 청양 공설운동장\n",
      "url http://www.sportal.or.kr/sportal.do?menu_id=020010000000&mode=view&etbm_usn=101\n",
      "item None\n",
      "collectionDb 대한체육회DB\n",
      "creator 대한체육회\n",
      "language Kor\n",
      "regDate 2017-01-19T20:40:57+09:00\n",
      "subjectCategory 공공\n",
      "title 덕흥동영산강둔치 테니스장\n",
      "url http://www.sportal.or.kr/sportal.do?menu_id=020010000000&mode=view&etbm_usn=1015\n",
      "item None\n",
      "collectionDb 대한체육회DB\n",
      "creator 대한체육회\n",
      "language Kor\n",
      "regDate 2017-01-19T20:40:57+09:00\n",
      "subjectCategory 공공\n",
      "title 봉선 테니스장\n",
      "url http://www.sportal.or.kr/sportal.do?menu_id=020010000000&mode=view&etbm_usn=1016\n",
      "item None\n",
      "collectionDb 대한체육회DB\n",
      "creator 대한체육회\n",
      "language Kor\n",
      "regDate 2017-01-19T20:40:57+09:00\n",
      "subjectCategory 공공\n",
      "title 중흥 정구장\n",
      "url http://www.sportal.or.kr/sportal.do?menu_id=020010000000&mode=view&etbm_usn=1017\n",
      "item None\n",
      "collectionDb 대한체육회DB\n",
      "creator 대한체육회\n",
      "language Kor\n",
      "regDate 2017-01-19T20:40:59+09:00\n",
      "subjectCategory 공공\n",
      "title 송산 테니스장\n",
      "url http://www.sportal.or.kr/sportal.do?menu_id=020010000000&mode=view&etbm_usn=1084\n",
      "numOfRows <bound method IntElement.values of 10>\n",
      "pageNo <bound method IntElement.values of 1>\n",
      "totalCount <bound method IntElement.values of 8311>\n"
     ]
    }
   ],
   "source": [
    "for item in items:\n",
    "    print item.tag, item.values\n",
    "    if item.tag == 'items':\n",
    "        for i in item.item:\n",
    "            for j in i.getiterator():\n",
    "                print j.tag, j.text"
   ]
  },
  {
   "cell_type": "code",
   "execution_count": null,
   "metadata": {},
   "outputs": [],
   "source": [
    "etree.tostring(response_body, method='text', encoding=\"UTF-8\")"
   ]
  },
  {
   "cell_type": "code",
   "execution_count": null,
   "metadata": {},
   "outputs": [],
   "source": [
    "data.append(el_data)"
   ]
  },
  {
   "cell_type": "code",
   "execution_count": null,
   "metadata": {},
   "outputs": [],
   "source": [
    "data"
   ]
  },
  {
   "cell_type": "code",
   "execution_count": null,
   "metadata": {},
   "outputs": [],
   "source": []
  }
 ],
 "metadata": {
  "kernelspec": {
   "display_name": "Python 2",
   "language": "python",
   "name": "python2"
  },
  "language_info": {
   "codemirror_mode": {
    "name": "ipython",
    "version": 2
   },
   "file_extension": ".py",
   "mimetype": "text/x-python",
   "name": "python",
   "nbconvert_exporter": "python",
   "pygments_lexer": "ipython2",
   "version": "2.7.14"
  }
 },
 "nbformat": 4,
 "nbformat_minor": 2
}
